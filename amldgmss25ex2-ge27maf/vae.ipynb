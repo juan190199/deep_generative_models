{
 "cells": [
  {
   "cell_type": "code",
   "execution_count": 1,
   "metadata": {},
   "outputs": [],
   "source": [
    "import os\n",
    "os.environ['KMP_DUPLICATE_LIB_OK']='True'\n",
    "\n",
    "import matplotlib.pyplot as plt\n",
    "import numpy as np\n",
    "import torch\n",
    "from torchvision import datasets, transforms"
   ]
  },
  {
   "attachments": {},
   "cell_type": "markdown",
   "metadata": {},
   "source": [
    "### Installing additional packages for visualization\n",
    "To visualize data and the outputs of your model, you need to install `seaborn` and `sklearn`. You can do so via `pip install seaborn scikit-learn`. Note however that these packages are not available in the environment used for testing your code. This means you should not use either of these packages outside of this notebook (which is not run on Artemis and also not graded.)"
   ]
  },
  {
   "cell_type": "code",
   "execution_count": 2,
   "metadata": {},
   "outputs": [],
   "source": [
    "import visualization\n",
    "import seaborn as sns"
   ]
  },
  {
   "attachments": {},
   "cell_type": "markdown",
   "metadata": {},
   "source": [
    "# Project 2: Variational Autoencoder (10 pts)\n",
    "The goal of this project is to impelement the Variational Autoencoder (VAE). The main idea is to augment an autoencoder architecture with probabilistic latent embeddings. The autoencoder consists of two parts: An encoder that takes inputs and encodes them into a lower-dimensional manifold. The decoder than maps these embeddings back to the original inputs. Thus, the latent embeddings of the encoder are ought to be compressed representations. In the VAE, the encoder instead outputs a latent (variational) distribution from which the latent embeddings are sampled. This \"smoothens\" the latent space of the autoencoder and allows for example sampling new latent representations (i.e. generating new data) or interpolating between two latent embeddings (while the decoder still provides meaningful reconstructions). \n",
    "\n",
    "## Your task\n",
    "Complete the missing code. Make sure that all the functions follow the provided specification, i.e. the output of the function exactly matches the description in the docstring. \n",
    "\n",
    "## General Remarks\n",
    "\n",
    "Only functionality in the python files will be graded. Carefully read the method docstrings to understand the task, parameters and what output is expected.\n",
    "Fill in the missing code at the markers in the files `vae/vae.py`, `vae/encoder.py`, `vae/decoder.py`\n",
    "```python\n",
    "###########################\n",
    "# YOUR CODE HERE\n",
    "###########################\n",
    "```\n",
    "Do not add or modify any code at other places in the notebook and python code files except where otherwise explicitly stated.\n",
    "After you fill in all the missing code, restart the kernel and re-run all the cells in the notebook.\n",
    "\n",
    "The following things are **NOT** allowed:\n",
    "- Using additional `import` statements\n",
    "- Using the `torch.distributions` package\n",
    "- Copying / reusing code from other sources (e.g. code by other students)\n",
    "\n",
    "If you plagiarise even for a single project task, you won't be eligible for the bonus this semester."
   ]
  },
  {
   "attachments": {},
   "cell_type": "markdown",
   "metadata": {},
   "source": [
    "## Select an accelerator (CPU or GPU)\n",
    "\n",
    "Select an accelerator for this project: If you have a GPU available, it will greatly speed up computations. It should however also be feasible to run this notebook entirely on a CPU."
   ]
  },
  {
   "cell_type": "code",
   "execution_count": 3,
   "metadata": {},
   "outputs": [
    {
     "name": "stdout",
     "output_type": "stream",
     "text": [
      "Using device cpu\n"
     ]
    }
   ],
   "source": [
    "device = 'cuda' if torch.cuda.is_available() else 'cpu'\n",
    "# device = 'cpu'  # uncomment this line to run the model on the CPU\n",
    "print(f'Using device {device}')"
   ]
  },
  {
   "attachments": {},
   "cell_type": "markdown",
   "metadata": {},
   "source": [
    "## Load the MNIST dataset"
   ]
  },
  {
   "cell_type": "code",
   "execution_count": 4,
   "metadata": {},
   "outputs": [],
   "source": [
    "batch_size = 128\n",
    "dataset = datasets.MNIST \n",
    "if device == 'cuda':\n",
    "    train_loader = torch.utils.data.DataLoader(\n",
    "        dataset('data', train=True, download=True, transform=transforms.ToTensor()),\n",
    "        batch_size=batch_size, shuffle=True, num_workers=1, pin_memory=True\n",
    "    )\n",
    "    test_loader = torch.utils.data.DataLoader(\n",
    "        dataset('data', train=False, download=True, transform=transforms.ToTensor()),\n",
    "        batch_size=1000, shuffle=True, num_workers=1, pin_memory=True\n",
    "    )\n",
    "elif device == 'cpu':\n",
    "    train_loader = torch.utils.data.DataLoader(\n",
    "        dataset('data', train=True, download=True, transform=transforms.ToTensor()),\n",
    "        batch_size=batch_size, shuffle=True,\n",
    "    )\n",
    "    test_loader = torch.utils.data.DataLoader(\n",
    "        dataset('data', train=False, download=True, transform=transforms.ToTensor()),\n",
    "        batch_size=1000, shuffle=True,\n",
    "    )\n"
   ]
  },
  {
   "cell_type": "code",
   "execution_count": 5,
   "metadata": {
    "scrolled": true
   },
   "outputs": [
    {
     "data": {
      "image/png": "[encoded data removed]",
      "text/plain": [
       "<Figure size 750x400 with 10 Axes>"
      ]
     },
     "metadata": {},
     "output_type": "display_data"
    }
   ],
   "source": [
    "# Visualize a few random samples from the dataset\n",
    "\n",
    "visualization.visualize_mnist(train_loader)"
   ]
  },
  {
   "attachments": {},
   "cell_type": "markdown",
   "metadata": {},
   "source": [
    "## Task 1: Encoder (1 pt)\n",
    "The encoder network produces the parameters of the variational distribution. \n",
    "In our case, the variational distribution $q_{\\boldsymbol{\\phi}^{(i)}}(\\mathbf{z}^{(i)})$ is multivariate normal with diagonal covariance, so the encoder needs to produce its mean and the (diagonal of the) covariance matrix.\n",
    "The encoder has the following architecture\n",
    "<img src=\"img/encoder.png\" alt=\"Encoder\" style=\"width: 200px;\"/>\n",
    "The encoder produces the parameters $\\boldsymbol{\\mu}^{(i)} \\in \\mathbb{R}^L$ and $\\log \\boldsymbol{\\sigma}^{(i)} \\in \\mathbb{R}^L$ for each sample $i$ in the mini batch. \n",
    "Note that $\\log \\boldsymbol{\\sigma}^{(i)}$ can be negative, we convert it into a diagonal positive-definite covariance matrix as $\\boldsymbol{\\Sigma}^{(i)} = \\operatorname{diag}(\\exp(\\log \\boldsymbol{\\sigma}^{(i)}))^2)$\n",
    "\n",
    "You need to implemenet this functionality in `vae/encoder.py`:\n",
    "- `forward` **(1 pt)**: Maps a batch of inputs to parameters of the corresponding variational distributions"
   ]
  },
  {
   "attachments": {},
   "cell_type": "markdown",
   "metadata": {},
   "source": [
    "## Task 2: Reparametrization sampling (1.5 pts)\n",
    "Given the parameters $\\boldsymbol{\\mu}^{(i)}$ and $\\log \\boldsymbol{\\sigma}^{(i)}$ of the variational distribution, we need to generate samples $\\mathbf{z}^{(i)} \\sim q_{\\boldsymbol{\\phi}^{(i)}}(\\mathbf{z}^{(i)}) = \\mathcal{N}(\\mathbf{z}^{(i)} | \\boldsymbol{\\mu}^{(i)}, \\boldsymbol{\\Sigma}^{(i)})$ to estimate the ELBO. \n",
    "We draw one sample $\\mathbf{z}^{(i)}$ for each instance $i$ in the mini-batch (Slide 104).\n",
    "It's important to draw samples using reparametrization here, so that it's possible to obtain gradient w.r.t. the parameters of the encoder.\n",
    "\n",
    "Functions `torch.normal` or `torch.Tensor.normal_` might be useful here.\n",
    "\n",
    "You need to implemenet this functionality in `vae/vae.py`:\n",
    "- `sample_with_reparametrization` **(1.5 pts)**: Takes parameters of the variational distribution and draws samples from them using the reparametrization trick such that we get gradients for the parameters of the encoder"
   ]
  },
  {
   "attachments": {},
   "cell_type": "markdown",
   "metadata": {},
   "source": [
    "## Task 3: Decoder (1 pt)\n",
    "The decoder takes the samples $\\mathbf{z}^{(i)}$ and produces the parameters $\\boldsymbol{\\theta}^{(i)} \\in \\mathbb{R}^D$ of the data likelihood $p_{\\boldsymbol{\\theta}^{(i)}}(\\mathbf{x}^{(i)}|\\mathbf{z}^{(i)})$.\n",
    "We use the following simple architecture for the decoder\n",
    "\n",
    "<img src=\"img/decoder.png\" alt=\"Decoder\" style=\"width: 150px;\"/>\n",
    "\n",
    "Our data $\\mathbf{x}^{(i)} \\in \\{0, 1\\}^D$ is binary, so we use Bernoulli likelihood \n",
    "$$p_{\\boldsymbol{\\theta}^{(i)}}(\\mathbf{x}^{(i)}|\\mathbf{z}^{(i)}) = \\prod_{j=1}^D \\left(\\theta_{j}^{(i)}\\right)^{x_{j}^{(i)}} \\left(1 - \\theta_{j}^{(i)}\\right)^{1 - x_{j}^{(i)}}$$\n",
    "Recall that the **negative log-likelihood** of the Bernoulli model is also called binary cross entropy.\n",
    "\n",
    "The parameters $\\theta_{j}^{(i)}$ must be in $(0, 1)$, which we enforce using the sigmoid function.\n",
    "\n",
    "You need to implemenet this functionality in `vae/decoder.py`:\n",
    "- `forward` **(1 pt)**: Reconstruct inputs from their corresponding latent codes. The reconstructions (i.e. outputs of the decoder) should be in $(0, 1)$."
   ]
  },
  {
   "attachments": {},
   "cell_type": "markdown",
   "metadata": {},
   "source": [
    "## Task 4: KL divergence (2 pts)\n",
    "To compute the ELBO, we will need to compute the KL divergence. \n",
    "$$\\mathbb{KL}(q_{\\boldsymbol{\\phi}^{(i)}}(\\mathbf{z}^{(i)}) || p(\\mathbf{z}^{(i)}))$$\n",
    "Where $p(\\mathbf{z}^{(i)})$ is the standard L-dimensional normal distribution (zero mean, identity covariance).\n",
    "This can be done in closed form.\n",
    "\n",
    "You need to implemenet this functionality in `vae/vae.py`:\n",
    "- `kl_divergence` **(2 pts)**: Computes the KL divergence between the normal distribution parametrized by the variational parameters $\\boldsymbol{\\mu}^{(i)}$ and $\\log \\boldsymbol{\\sigma}^{(i)}$ and standard normal distribution $\\mathcal{N}(\\boldsymbol{0}, \\boldsymbol{I})$"
   ]
  },
  {
   "attachments": {},
   "cell_type": "markdown",
   "metadata": {},
   "source": [
    "## Task 5: ELBO (3 pts)\n",
    "Finally, we can compute the ELBO using all the methods that we implemented above.\n",
    "ELBO for a single sample $\\mathbf{x}^{(i)} \\in \\{0, 1\\}^D$ is computed as\n",
    "$$\\mathcal{L}_i(\\boldsymbol{\\psi}, \\boldsymbol{\\lambda}) = \\mathbb{E}_{\\mathbf{z}^{(i)} \\sim q_{\\boldsymbol{\\phi}^{(i)}} (\\mathbf{z}^{(i)})}\\left[\\log p_{\\boldsymbol{\\theta}^{(i)}}(\\mathbf{x}^{(i)} | \\mathbf{z}^{(i)})\\right] - \\mathbb{KL}(q_{\\boldsymbol{\\phi}^{(i)}}(\\mathbf{z}^{(i)}) || p(\\mathbf{z}))$$\n",
    "\n",
    "In practice it's more efficient to compute the ELBO for a minibatch $\\mathcal{B}$ of samples \n",
    "$$\\mathcal{L}(\\boldsymbol{\\psi}, \\boldsymbol{\\lambda}) = \\frac{1}{|\\mathcal{B}|} \\sum_{\\mathbf{x}^{(i)} \\in \\mathcal{B}} \\mathcal{L}_i(\\boldsymbol{\\psi}, \\boldsymbol{\\lambda})$$\n",
    "where the variational parameters $\\boldsymbol{\\phi}^{(i)}$ are produced by the **encoder network** $g_{\\boldsymbol{\\lambda}}$ (i.e. $\\boldsymbol{\\phi}^{(i)} = g_{\\boldsymbol{\\lambda}}(\\mathbf{x}^{(i)})$),\n",
    "and the likelihood parameters $\\boldsymbol{\\theta}^{(i)}$ are produced by the **decoder network** $f_{\\boldsymbol{\\psi}}$ (i.e. $\\boldsymbol{\\theta}^{(i)} = f_{\\boldsymbol{\\psi}}(\\mathbf{x}^{(i)})$).\n",
    "\n",
    "You need to implemenet this functionality in `vae/vae.py`:\n",
    "- `elbo` **(3 pts)**: Computes the ELBO for a minibatch of samples as stated above. We approximate expectations by only using one sample (per input)."
   ]
  },
  {
   "attachments": {},
   "cell_type": "markdown",
   "metadata": {},
   "source": [
    "## Task 6: Generating new data (1.5 pts)\n",
    "We can generate new samples using the procedure.\n",
    "Function `torch.bernoulli` might be useful here.\n",
    "\n",
    "You need to implemenet this functionality in `vae/vae.py`:\n",
    "- `sample` **(1.5 pts)**: Generates samples from the VAE by sampling in the latent space and then does \"reconstructing\" using the decoder network."
   ]
  },
  {
   "attachments": {},
   "cell_type": "markdown",
   "metadata": {},
   "source": [
    "### Training the VAE\n",
    "\n",
    "Now we train the defined VAE model on the MNIST dataset. This should not take more than a few minutes if you are training on a CPU and be significantly faster if you are using a GPU."
   ]
  },
  {
   "cell_type": "code",
   "execution_count": 6,
   "metadata": {},
   "outputs": [],
   "source": [
    "from vae import VAE"
   ]
  },
  {
   "cell_type": "code",
   "execution_count": 7,
   "metadata": {},
   "outputs": [],
   "source": [
    "obs_dim = 784  # MNIST images are of shape [1, 28, 28]\n",
    "latent_dim = 32  # Size of the latent variable z\n",
    "hidden_dim = 400  # Size of the hidden layer in the encoder / decoder\n",
    "\n",
    "vae = VAE(obs_dim, latent_dim, hidden_dim).to(device)\n",
    "opt = torch.optim.Adam(vae.parameters(), lr=1e-3)"
   ]
  },
  {
   "cell_type": "code",
   "execution_count": null,
   "metadata": {},
   "outputs": [
    {
     "name": "stdout",
     "output_type": "stream",
     "text": [
      "Epoch 0\n",
      "  loss = 549.14\n"
     ]
    }
   ],
   "source": [
    "max_epochs = 5\n",
    "display_step = 100\n",
    "for epoch in range(max_epochs):\n",
    "    print(f'Epoch {epoch}')\n",
    "    for ix, batch in enumerate(train_loader):\n",
    "        x, y = batch\n",
    "        x = x.view(x.shape[0], obs_dim).to(device)  # we flatten the image into 1D array\n",
    "        opt.zero_grad()\n",
    "        # We want to maximize the ELBO, so we minimize the negative ELBO\n",
    "        loss = -vae.elbo(x).mean(-1)\n",
    "        loss.backward()\n",
    "        opt.step()\n",
    "        \n",
    "        if ix % display_step == 0:\n",
    "            print(f'  loss = {loss.item():.2f}')"
   ]
  },
  {
   "attachments": {},
   "cell_type": "markdown",
   "metadata": {},
   "source": [
    "### Visualize samples generated by the model\n",
    "\n",
    "We first qualitatively inspect the instances that our model creates when we randomly sample new latent embeddings and \"reconstruct\" using the decoder. "
   ]
  },
  {
   "cell_type": "code",
   "execution_count": null,
   "metadata": {},
   "outputs": [],
   "source": [
    "x = vae.sample(10)[-1].view(-1, 28, 28).detach().cpu().numpy()\n",
    "visualization.visualize_vae_samples(x)"
   ]
  },
  {
   "attachments": {},
   "cell_type": "markdown",
   "metadata": {},
   "source": [
    "While the images here look somewhat similar to the training data and it's possible to discern the shapes of different digits, the sampels are not visually coherent.\n",
    "You might need to run the above cell several times to obtain images that look decent.\n",
    "\n",
    "It's possible to obtain images that look a lot better by using more \n",
    "powerful encoders & decoders (see `nn.Conv2d` and `nn.ConvTranspose2d`).\n",
    "However, training such models is slower, unless you have a good GPU."
   ]
  },
  {
   "attachments": {},
   "cell_type": "markdown",
   "metadata": {},
   "source": [
    "### Visualize the embeddings produced by the model\n",
    "Here, we visualize the embeddings learned by the encoder using the following procedure\n",
    "1. Take a mini-batch `x` (shape `[batch_size, obs_dim]`)\n",
    "2. Pass `x` through the encoder \n",
    "```\n",
    "mu, logsigma = vae.encoder(x)\n",
    "```\n",
    "3. Visualize the mean `mu` for each sample using t-SNE."
   ]
  },
  {
   "cell_type": "code",
   "execution_count": null,
   "metadata": {},
   "outputs": [],
   "source": [
    "x, y = next(iter(test_loader))\n",
    "x = x.view(x.shape[0], obs_dim).to(device)\n",
    "plt.figure(figsize=[10, 7])\n",
    "visualization.visualize_embeddings(vae, x, y)"
   ]
  },
  {
   "attachments": {},
   "cell_type": "markdown",
   "metadata": {},
   "source": [
    "As we can see, the encoder learned to assign similar means to the images that belong to the same class. That means, if two samples $x_i$ and $x_j$ belong to the same class, the means $\\mu_i$ and $\\mu_j$ of their variational distributions $q_i(z_i)$ and $q_j(z_j)$ are nearby, so $z_i$ and $z_j$ will likely be close as well."
   ]
  }
 ],
 "metadata": {
  "kernelspec": {
   "display_name": "Python 3 (ipykernel)",
   "language": "python",
   "name": "python3"
  },
  "language_info": {
   "codemirror_mode": {
    "name": "ipython",
    "version": 3
   },
   "file_extension": ".py",
   "mimetype": "text/x-python",
   "name": "python",
   "nbconvert_exporter": "python",
   "pygments_lexer": "ipython3",
   "version": "3.11.0"
  }
 },
 "nbformat": 4,
 "nbformat_minor": 4
}
